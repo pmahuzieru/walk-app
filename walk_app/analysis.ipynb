{
 "cells": [
  {
   "cell_type": "code",
   "execution_count": 1,
   "metadata": {},
   "outputs": [],
   "source": [
    "from utils import get_random_route"
   ]
  },
  {
   "cell_type": "code",
   "execution_count": 2,
   "metadata": {},
   "outputs": [
    {
     "name": "stdout",
     "output_type": "stream",
     "text": [
      "Unpickled.\n",
      "Requesting route to API...OK\n"
     ]
    },
    {
     "data": {
      "text/html": [
       "<div style=\"width:100%;\"><div style=\"position:relative;width:100%;height:0;padding-bottom:60%;\"><span style=\"color:#565656\">Make this Notebook Trusted to load map: File -> Trust Notebook</span><iframe src=\"about:blank\" style=\"position:absolute;width:100%;height:100%;left:0;top:0;border:none !important;\" data-html=%3C%21DOCTYPE%20html%3E%0A%3Chead%3E%20%20%20%20%0A%20%20%20%20%3Cmeta%20http-equiv%3D%22content-type%22%20content%3D%22text/html%3B%20charset%3DUTF-8%22%20/%3E%0A%20%20%20%20%0A%20%20%20%20%20%20%20%20%3Cscript%3E%0A%20%20%20%20%20%20%20%20%20%20%20%20L_NO_TOUCH%20%3D%20false%3B%0A%20%20%20%20%20%20%20%20%20%20%20%20L_DISABLE_3D%20%3D%20false%3B%0A%20%20%20%20%20%20%20%20%3C/script%3E%0A%20%20%20%20%0A%20%20%20%20%3Cstyle%3Ehtml%2C%20body%20%7Bwidth%3A%20100%25%3Bheight%3A%20100%25%3Bmargin%3A%200%3Bpadding%3A%200%3B%7D%3C/style%3E%0A%20%20%20%20%3Cstyle%3E%23map%20%7Bposition%3Aabsolute%3Btop%3A0%3Bbottom%3A0%3Bright%3A0%3Bleft%3A0%3B%7D%3C/style%3E%0A%20%20%20%20%3Cscript%20src%3D%22https%3A//cdn.jsdelivr.net/npm/leaflet%401.6.0/dist/leaflet.js%22%3E%3C/script%3E%0A%20%20%20%20%3Cscript%20src%3D%22https%3A//code.jquery.com/jquery-1.12.4.min.js%22%3E%3C/script%3E%0A%20%20%20%20%3Cscript%20src%3D%22https%3A//maxcdn.bootstrapcdn.com/bootstrap/3.2.0/js/bootstrap.min.js%22%3E%3C/script%3E%0A%20%20%20%20%3Cscript%20src%3D%22https%3A//cdnjs.cloudflare.com/ajax/libs/Leaflet.awesome-markers/2.0.2/leaflet.awesome-markers.js%22%3E%3C/script%3E%0A%20%20%20%20%3Clink%20rel%3D%22stylesheet%22%20href%3D%22https%3A//cdn.jsdelivr.net/npm/leaflet%401.6.0/dist/leaflet.css%22/%3E%0A%20%20%20%20%3Clink%20rel%3D%22stylesheet%22%20href%3D%22https%3A//maxcdn.bootstrapcdn.com/bootstrap/3.2.0/css/bootstrap.min.css%22/%3E%0A%20%20%20%20%3Clink%20rel%3D%22stylesheet%22%20href%3D%22https%3A//maxcdn.bootstrapcdn.com/bootstrap/3.2.0/css/bootstrap-theme.min.css%22/%3E%0A%20%20%20%20%3Clink%20rel%3D%22stylesheet%22%20href%3D%22https%3A//maxcdn.bootstrapcdn.com/font-awesome/4.6.3/css/font-awesome.min.css%22/%3E%0A%20%20%20%20%3Clink%20rel%3D%22stylesheet%22%20href%3D%22https%3A//cdnjs.cloudflare.com/ajax/libs/Leaflet.awesome-markers/2.0.2/leaflet.awesome-markers.css%22/%3E%0A%20%20%20%20%3Clink%20rel%3D%22stylesheet%22%20href%3D%22https%3A//cdn.jsdelivr.net/gh/python-visualization/folium/folium/templates/leaflet.awesome.rotate.min.css%22/%3E%0A%20%20%20%20%0A%20%20%20%20%20%20%20%20%20%20%20%20%3Cmeta%20name%3D%22viewport%22%20content%3D%22width%3Ddevice-width%2C%0A%20%20%20%20%20%20%20%20%20%20%20%20%20%20%20%20initial-scale%3D1.0%2C%20maximum-scale%3D1.0%2C%20user-scalable%3Dno%22%20/%3E%0A%20%20%20%20%20%20%20%20%20%20%20%20%3Cstyle%3E%0A%20%20%20%20%20%20%20%20%20%20%20%20%20%20%20%20%23map_f42d1802722e48b0bacab38c3a61bff0%20%7B%0A%20%20%20%20%20%20%20%20%20%20%20%20%20%20%20%20%20%20%20%20position%3A%20relative%3B%0A%20%20%20%20%20%20%20%20%20%20%20%20%20%20%20%20%20%20%20%20width%3A%20100.0%25%3B%0A%20%20%20%20%20%20%20%20%20%20%20%20%20%20%20%20%20%20%20%20height%3A%20100.0%25%3B%0A%20%20%20%20%20%20%20%20%20%20%20%20%20%20%20%20%20%20%20%20left%3A%200.0%25%3B%0A%20%20%20%20%20%20%20%20%20%20%20%20%20%20%20%20%20%20%20%20top%3A%200.0%25%3B%0A%20%20%20%20%20%20%20%20%20%20%20%20%20%20%20%20%7D%0A%20%20%20%20%20%20%20%20%20%20%20%20%3C/style%3E%0A%20%20%20%20%20%20%20%20%0A%3C/head%3E%0A%3Cbody%3E%20%20%20%20%0A%20%20%20%20%0A%20%20%20%20%20%20%20%20%20%20%20%20%3Cdiv%20class%3D%22folium-map%22%20id%3D%22map_f42d1802722e48b0bacab38c3a61bff0%22%20%3E%3C/div%3E%0A%20%20%20%20%20%20%20%20%0A%3C/body%3E%0A%3Cscript%3E%20%20%20%20%0A%20%20%20%20%0A%20%20%20%20%20%20%20%20%20%20%20%20var%20map_f42d1802722e48b0bacab38c3a61bff0%20%3D%20L.map%28%0A%20%20%20%20%20%20%20%20%20%20%20%20%20%20%20%20%22map_f42d1802722e48b0bacab38c3a61bff0%22%2C%0A%20%20%20%20%20%20%20%20%20%20%20%20%20%20%20%20%7B%0A%20%20%20%20%20%20%20%20%20%20%20%20%20%20%20%20%20%20%20%20center%3A%20%5B-32.935273%2C%20-71.545205%5D%2C%0A%20%20%20%20%20%20%20%20%20%20%20%20%20%20%20%20%20%20%20%20crs%3A%20L.CRS.EPSG3857%2C%0A%20%20%20%20%20%20%20%20%20%20%20%20%20%20%20%20%20%20%20%20zoom%3A%2015%2C%0A%20%20%20%20%20%20%20%20%20%20%20%20%20%20%20%20%20%20%20%20zoomControl%3A%20true%2C%0A%20%20%20%20%20%20%20%20%20%20%20%20%20%20%20%20%20%20%20%20preferCanvas%3A%20false%2C%0A%20%20%20%20%20%20%20%20%20%20%20%20%20%20%20%20%7D%0A%20%20%20%20%20%20%20%20%20%20%20%20%29%3B%0A%0A%20%20%20%20%20%20%20%20%20%20%20%20%0A%0A%20%20%20%20%20%20%20%20%0A%20%20%20%20%0A%20%20%20%20%20%20%20%20%20%20%20%20var%20tile_layer_5659b2af33b64090a9732c7af95d153b%20%3D%20L.tileLayer%28%0A%20%20%20%20%20%20%20%20%20%20%20%20%20%20%20%20%22https%3A//%7Bs%7D.tile.openstreetmap.org/%7Bz%7D/%7Bx%7D/%7By%7D.png%22%2C%0A%20%20%20%20%20%20%20%20%20%20%20%20%20%20%20%20%7B%22attribution%22%3A%20%22Data%20by%20%5Cu0026copy%3B%20%5Cu003ca%20href%3D%5C%22http%3A//openstreetmap.org%5C%22%5Cu003eOpenStreetMap%5Cu003c/a%5Cu003e%2C%20under%20%5Cu003ca%20href%3D%5C%22http%3A//www.openstreetmap.org/copyright%5C%22%5Cu003eODbL%5Cu003c/a%5Cu003e.%22%2C%20%22detectRetina%22%3A%20false%2C%20%22maxNativeZoom%22%3A%2018%2C%20%22maxZoom%22%3A%2018%2C%20%22minZoom%22%3A%200%2C%20%22noWrap%22%3A%20false%2C%20%22opacity%22%3A%201%2C%20%22subdomains%22%3A%20%22abc%22%2C%20%22tms%22%3A%20false%7D%0A%20%20%20%20%20%20%20%20%20%20%20%20%29.addTo%28map_f42d1802722e48b0bacab38c3a61bff0%29%3B%0A%20%20%20%20%20%20%20%20%0A%20%20%20%20%0A%20%20%20%20%20%20%20%20%20%20%20%20var%20marker_210b2c0deda445acad2e96540d08b9cc%20%3D%20L.marker%28%0A%20%20%20%20%20%20%20%20%20%20%20%20%20%20%20%20%5B-32.935273%2C%20-71.545205%5D%2C%0A%20%20%20%20%20%20%20%20%20%20%20%20%20%20%20%20%7B%7D%0A%20%20%20%20%20%20%20%20%20%20%20%20%29.addTo%28map_f42d1802722e48b0bacab38c3a61bff0%29%3B%0A%20%20%20%20%20%20%20%20%0A%20%20%20%20%0A%20%20%20%20%20%20%20%20var%20popup_e8fd88ceafe245749890cf479192149b%20%3D%20L.popup%28%7B%22maxWidth%22%3A%20%22100%25%22%7D%29%3B%0A%0A%20%20%20%20%20%20%20%20%0A%20%20%20%20%20%20%20%20%20%20%20%20var%20html_fd919dd35b93459ca2ad7123f658d385%20%3D%20%24%28%60%3Cdiv%20id%3D%22html_fd919dd35b93459ca2ad7123f658d385%22%20style%3D%22width%3A%20100.0%25%3B%20height%3A%20100.0%25%3B%22%3EStart%20location%3C/div%3E%60%29%5B0%5D%3B%0A%20%20%20%20%20%20%20%20%20%20%20%20popup_e8fd88ceafe245749890cf479192149b.setContent%28html_fd919dd35b93459ca2ad7123f658d385%29%3B%0A%20%20%20%20%20%20%20%20%0A%0A%20%20%20%20%20%20%20%20marker_210b2c0deda445acad2e96540d08b9cc.bindPopup%28popup_e8fd88ceafe245749890cf479192149b%29%0A%20%20%20%20%20%20%20%20%3B%0A%0A%20%20%20%20%20%20%20%20%0A%20%20%20%20%0A%20%20%20%20%0A%20%20%20%20%20%20%20%20%20%20%20%20var%20marker_df3f0ce671ba41ad941c7a581790ea9d%20%3D%20L.marker%28%0A%20%20%20%20%20%20%20%20%20%20%20%20%20%20%20%20%5B-32.939710608006706%2C%20-71.55352851485944%5D%2C%0A%20%20%20%20%20%20%20%20%20%20%20%20%20%20%20%20%7B%7D%0A%20%20%20%20%20%20%20%20%20%20%20%20%29.addTo%28map_f42d1802722e48b0bacab38c3a61bff0%29%3B%0A%20%20%20%20%20%20%20%20%0A%20%20%20%20%0A%20%20%20%20%20%20%20%20var%20popup_247d4e2396a54959b099d6ac7d510466%20%3D%20L.popup%28%7B%22maxWidth%22%3A%20%22100%25%22%7D%29%3B%0A%0A%20%20%20%20%20%20%20%20%0A%20%20%20%20%20%20%20%20%20%20%20%20var%20html_074390f5dffb4f91ab2d908b19ceccf7%20%3D%20%24%28%60%3Cdiv%20id%3D%22html_074390f5dffb4f91ab2d908b19ceccf7%22%20style%3D%22width%3A%20100.0%25%3B%20height%3A%20100.0%25%3B%22%3EEnd%20location%3C/div%3E%60%29%5B0%5D%3B%0A%20%20%20%20%20%20%20%20%20%20%20%20popup_247d4e2396a54959b099d6ac7d510466.setContent%28html_074390f5dffb4f91ab2d908b19ceccf7%29%3B%0A%20%20%20%20%20%20%20%20%0A%0A%20%20%20%20%20%20%20%20marker_df3f0ce671ba41ad941c7a581790ea9d.bindPopup%28popup_247d4e2396a54959b099d6ac7d510466%29%0A%20%20%20%20%20%20%20%20%3B%0A%0A%20%20%20%20%20%20%20%20%0A%20%20%20%20%0A%20%20%20%20%0A%20%20%20%20%20%20%20%20%20%20%20%20var%20poly_line_4d02d3c429da43ebb00abaa51ffbea7c%20%3D%20L.polyline%28%0A%20%20%20%20%20%20%20%20%20%20%20%20%20%20%20%20%5B%5B-32.935187%2C%20-71.545395%5D%2C%20%5B-32.935363%2C%20-71.545549%5D%2C%20%5B-32.935461%2C%20-71.545947%5D%2C%20%5B-32.935662%2C%20-71.546313%5D%2C%20%5B-32.935851%2C%20-71.546377%5D%2C%20%5B-32.935772%2C%20-71.54675%5D%2C%20%5B-32.93471%2C%20-71.546809%5D%2C%20%5B-32.934591%2C%20-71.547281%5D%2C%20%5B-32.934624%2C%20-71.547664%5D%2C%20%5B-32.933885%2C%20-71.547699%5D%2C%20%5B-32.933108%2C%20-71.549156%5D%2C%20%5B-32.93285%2C%20-71.549402%5D%2C%20%5B-32.932627%2C%20-71.549451%5D%2C%20%5B-32.93202%2C%20-71.549287%5D%2C%20%5B-32.931566%2C%20-71.548812%5D%2C%20%5B-32.930032%2C%20-71.549555%5D%2C%20%5B-32.929904%2C%20-71.549988%5D%2C%20%5B-32.929701%2C%20-71.550055%5D%2C%20%5B-32.929329%2C%20-71.549982%5D%2C%20%5B-32.929183%2C%20-71.550088%5D%2C%20%5B-32.929118%2C%20-71.550358%5D%2C%20%5B-32.929262%2C%20-71.550597%5D%2C%20%5B-32.929695%2C%20-71.550859%5D%2C%20%5B-32.930086%2C%20-71.550677%5D%2C%20%5B-32.930292%2C%20-71.550757%5D%2C%20%5B-32.930747%2C%20-71.550459%5D%2C%20%5B-32.931335%2C%20-71.55027%5D%2C%20%5B-32.932218%2C%20-71.550463%5D%2C%20%5B-32.932962%2C%20-71.550478%5D%2C%20%5B-32.933755%2C%20-71.550035%5D%2C%20%5B-32.934586%2C%20-71.549997%5D%2C%20%5B-32.935192%2C%20-71.549545%5D%2C%20%5B-32.935411%2C%20-71.549512%5D%2C%20%5B-32.935855%2C%20-71.549797%5D%2C%20%5B-32.936236%2C%20-71.550389%5D%2C%20%5B-32.936987%2C%20-71.550819%5D%2C%20%5B-32.937541%2C%20-71.551979%5D%2C%20%5B-32.937872%2C%20-71.552179%5D%2C%20%5B-32.938715%2C%20-71.552407%5D%2C%20%5B-32.939171%2C%20-71.552888%5D%2C%20%5B-32.939693%2C%20-71.552885%5D%2C%20%5B-32.939171%2C%20-71.552888%5D%2C%20%5B-32.938715%2C%20-71.552407%5D%2C%20%5B-32.937872%2C%20-71.552179%5D%2C%20%5B-32.937541%2C%20-71.551979%5D%2C%20%5B-32.936987%2C%20-71.550819%5D%2C%20%5B-32.936236%2C%20-71.550389%5D%2C%20%5B-32.935855%2C%20-71.549797%5D%2C%20%5B-32.935411%2C%20-71.549512%5D%2C%20%5B-32.935192%2C%20-71.549545%5D%2C%20%5B-32.934586%2C%20-71.549997%5D%2C%20%5B-32.933755%2C%20-71.550035%5D%2C%20%5B-32.932962%2C%20-71.550478%5D%2C%20%5B-32.932218%2C%20-71.550463%5D%2C%20%5B-32.931335%2C%20-71.55027%5D%2C%20%5B-32.930747%2C%20-71.550459%5D%2C%20%5B-32.930292%2C%20-71.550757%5D%2C%20%5B-32.930086%2C%20-71.550677%5D%2C%20%5B-32.929695%2C%20-71.550859%5D%2C%20%5B-32.929262%2C%20-71.550597%5D%2C%20%5B-32.929118%2C%20-71.550358%5D%2C%20%5B-32.929183%2C%20-71.550088%5D%2C%20%5B-32.929329%2C%20-71.549982%5D%2C%20%5B-32.929701%2C%20-71.550055%5D%2C%20%5B-32.929904%2C%20-71.549988%5D%2C%20%5B-32.930032%2C%20-71.549555%5D%2C%20%5B-32.931566%2C%20-71.548812%5D%2C%20%5B-32.931917%2C%20-71.549233%5D%2C%20%5B-32.93274%2C%20-71.549443%5D%2C%20%5B-32.933108%2C%20-71.549156%5D%2C%20%5B-32.933692%2C%20-71.548072%5D%2C%20%5B-32.933885%2C%20-71.547699%5D%2C%20%5B-32.934624%2C%20-71.547664%5D%2C%20%5B-32.934591%2C%20-71.547281%5D%2C%20%5B-32.93471%2C%20-71.546809%5D%2C%20%5B-32.935772%2C%20-71.54675%5D%2C%20%5B-32.935851%2C%20-71.546377%5D%2C%20%5B-32.935662%2C%20-71.546313%5D%2C%20%5B-32.935461%2C%20-71.545947%5D%2C%20%5B-32.935363%2C%20-71.545549%5D%2C%20%5B-32.935187%2C%20-71.545395%5D%5D%2C%0A%20%20%20%20%20%20%20%20%20%20%20%20%20%20%20%20%7B%22bubblingMouseEvents%22%3A%20true%2C%20%22color%22%3A%20%22%233388ff%22%2C%20%22dashArray%22%3A%20null%2C%20%22dashOffset%22%3A%20null%2C%20%22fill%22%3A%20false%2C%20%22fillColor%22%3A%20%22%233388ff%22%2C%20%22fillOpacity%22%3A%200.2%2C%20%22fillRule%22%3A%20%22evenodd%22%2C%20%22lineCap%22%3A%20%22round%22%2C%20%22lineJoin%22%3A%20%22round%22%2C%20%22noClip%22%3A%20false%2C%20%22opacity%22%3A%201.0%2C%20%22smoothFactor%22%3A%201.0%2C%20%22stroke%22%3A%20true%2C%20%22weight%22%3A%203%7D%0A%20%20%20%20%20%20%20%20%20%20%20%20%29.addTo%28map_f42d1802722e48b0bacab38c3a61bff0%29%3B%0A%20%20%20%20%20%20%20%20%0A%3C/script%3E onload=\"this.contentDocument.open();this.contentDocument.write(    decodeURIComponent(this.getAttribute('data-html')));this.contentDocument.close();\" allowfullscreen webkitallowfullscreen mozallowfullscreen></iframe></div></div>"
      ],
      "text/plain": [
       "<folium.folium.Map at 0x7fe588b81130>"
      ]
     },
     "execution_count": 2,
     "metadata": {},
     "output_type": "execute_result"
    }
   ],
   "source": [
    "lng, lat = -71.545205, -32.935273\n",
    "walking_minutes = 60\n",
    "get_random_route((lng, lat), walking_minutes)"
   ]
  }
 ],
 "metadata": {
  "interpreter": {
   "hash": "ad5766a226760a4b14f0cb53434a1fc351eb4d8f7d4d8c1b925c99e557b87f9f"
  },
  "kernelspec": {
   "display_name": "Python 3.8.8 ('walk-app': venv)",
   "language": "python",
   "name": "python3"
  },
  "language_info": {
   "codemirror_mode": {
    "name": "ipython",
    "version": 3
   },
   "file_extension": ".py",
   "mimetype": "text/x-python",
   "name": "python",
   "nbconvert_exporter": "python",
   "pygments_lexer": "ipython3",
   "version": "3.8.8"
  },
  "orig_nbformat": 4
 },
 "nbformat": 4,
 "nbformat_minor": 2
}
